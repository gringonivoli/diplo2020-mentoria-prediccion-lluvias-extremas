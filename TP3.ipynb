{
 "cells": [
  {
   "cell_type": "markdown",
   "metadata": {},
   "source": [
    "## TP3: Introducción al aprendizaje automático"
   ]
  },
  {
   "cell_type": "code",
   "execution_count": 129,
   "metadata": {},
   "outputs": [],
   "source": [
    "import pandas as pd"
   ]
  },
  {
   "cell_type": "code",
   "execution_count": 130,
   "metadata": {},
   "outputs": [],
   "source": [
    "Datos = pd.read_csv(\"https://raw.githubusercontent.com/Rondamon/2020_Mentoria_LluviasExtremas/master/dataset/datos_diarios_cordoba.csv\", parse_dates = True, index_col=\"fecha\")\n",
    "id_Datos = pd.read_csv(\"https://raw.githubusercontent.com/Rondamon/2020_Mentoria_LluviasExtremas/master/dataset/metadatos_estaciones.csv\")"
   ]
  },
  {
   "cell_type": "markdown",
   "metadata": {},
   "source": [
    "De los datasets analizados en los TPs anteriores, ahora nos vamos a enfocar en:\n",
    "\n",
    "- La Florida\n",
    "- Marcos Juarez\n",
    "\n",
    "Y vamos a usar como variable que queremos predecir, la PMDA que han calculado para cada año hidrológico (del 1/julio al 30/junio).\n",
    "\n",
    "Las demás variables (como viento, temperatura, etc) las vamos a resumir para cada año hidrológico en la media (se pueden agregar más estadísticos pero así es suficiente)."
   ]
  },
  {
   "cell_type": "markdown",
   "metadata": {},
   "source": [
    "##### Actividades:\n",
    "\n",
    "##### OBJETIVO: Predecir Precipitación Máxima Diaria Anual (PMDA) para los próximos 5 años"
   ]
  },
  {
   "cell_type": "markdown",
   "metadata": {},
   "source": [
    "1) De los dataset que han trabajado hasta ahora, agreguen más features al DataFrame **\"Datos\"** (Por lo general, más features tienden a dar mejores predicciones).\n",
    "\n",
    "2) Además de las features del punto anterior, les propongo agregar nuevas features moviendo las originales tantos \"pasos de tiempo\" como features nuevas quieran generar.\n",
    "\n",
    "3) Curar el dataset (si fuera necesario).\n",
    "\n",
    "4) Aplicar técnicas de selección y extraccion de features. Armar un nuevo dataset con aquellas features más significativas.\n",
    "\n",
    "5) Dividir el dataset (training, validation, test).. Recuerden que queremos predecir la PMDA para los próximos 5 años.\n",
    "\n",
    "6) Analizar y elegir 3 modelos para REGRESIÓN. Entrenarlos y analizar resultados.\n",
    "\n",
    "7) Evaluar predicciones de los diferentes modelos.\n",
    "\n",
    "8) ¿Qué estadísticos utilizaron para evaluar las regresiones? Justifiquen su elección."
   ]
  },
  {
   "cell_type": "code",
   "execution_count": 131,
   "metadata": {},
   "outputs": [],
   "source": [
    "full_dataset = pd.read_csv('./datasetTP2/datos_diarios_cordoba_terra_chirps.csv')"
   ]
  },
  {
   "cell_type": "code",
   "execution_count": 158,
   "metadata": {},
   "outputs": [],
   "source": [
    "dataset = full_dataset[(full_dataset['nombre'] == 'La Florida') | (full_dataset['nombre'] == 'Marcos Juarez INTA')]\n",
    "dataset.loc[:, 'fecha'] = pd.to_datetime(dataset['fecha'])\n",
    "dataset.reset_index(inplace=True)\n",
    "dataset = dataset.drop(['Unnamed: 0'], axis=1)"
   ]
  },
  {
   "cell_type": "code",
   "execution_count": 159,
   "metadata": {},
   "outputs": [],
   "source": [
    "def get_hydro_year(date_, start_month=7):\n",
    "    year = date_.strftime('%Y')\n",
    "    month = date_.strftime('%m')\n",
    "    offset = 1 if int(month) >= start_month - 1 else 0\n",
    "    hydro_year = int(year) + offset - 1\n",
    "    return hydro_year\n",
    "\n",
    "def add_hydro_year(dataset):\n",
    "    dataset = dataset.copy()\n",
    "    dataset.reset_index(inplace=True)\n",
    "    dataset['hydro_year'] = dataset['fecha'].apply(get_hydro_year)\n",
    "    return dataset\n",
    "\n",
    "def remove_cols(dataset, cols=['level_0', 'ano', 'mes', 'caudal', 'tmed', 'vmax_d', 'vmax_f']):\n",
    "    return dataset.drop(cols, axis=1)\n",
    "\n",
    "def get_grouped_dataset(dataset, group=['omm_id', 'hydro_year']):\n",
    "    return dataset.groupby(group)"
   ]
  },
  {
   "cell_type": "code",
   "execution_count": 160,
   "metadata": {},
   "outputs": [],
   "source": [
    "dataset = add_hydro_year(dataset)\n",
    "dataset = remove_cols(dataset)"
   ]
  },
  {
   "cell_type": "code",
   "execution_count": 161,
   "metadata": {},
   "outputs": [
    {
     "data": {
      "text/html": [
       "<div>\n",
       "<style scoped>\n",
       "    .dataframe tbody tr th:only-of-type {\n",
       "        vertical-align: middle;\n",
       "    }\n",
       "\n",
       "    .dataframe tbody tr th {\n",
       "        vertical-align: top;\n",
       "    }\n",
       "\n",
       "    .dataframe thead th {\n",
       "        text-align: right;\n",
       "    }\n",
       "</style>\n",
       "<table border=\"1\" class=\"dataframe\">\n",
       "  <thead>\n",
       "    <tr style=\"text-align: right;\">\n",
       "      <th></th>\n",
       "      <th>index</th>\n",
       "      <th>fecha</th>\n",
       "      <th>omm_id</th>\n",
       "      <th>nombre</th>\n",
       "      <th>prcp</th>\n",
       "      <th>tmax</th>\n",
       "      <th>tmin</th>\n",
       "      <th>vmed</th>\n",
       "      <th>ETreal_mm</th>\n",
       "      <th>HumedadSuelo_mm</th>\n",
       "      <th>RadSolar_Wpm2</th>\n",
       "      <th>PresionVapor_hPa</th>\n",
       "      <th>IndicePalmer_porc</th>\n",
       "      <th>hydro_year</th>\n",
       "    </tr>\n",
       "  </thead>\n",
       "  <tbody>\n",
       "    <tr>\n",
       "      <th>41353</th>\n",
       "      <td>84826</td>\n",
       "      <td>2018-11-24</td>\n",
       "      <td>1</td>\n",
       "      <td>La Florida</td>\n",
       "      <td>0.0</td>\n",
       "      <td>24.4</td>\n",
       "      <td>10.5</td>\n",
       "      <td>5.38</td>\n",
       "      <td>114.5</td>\n",
       "      <td>68.0</td>\n",
       "      <td>258.1</td>\n",
       "      <td>12.26</td>\n",
       "      <td>1.29</td>\n",
       "      <td>2018</td>\n",
       "    </tr>\n",
       "    <tr>\n",
       "      <th>41354</th>\n",
       "      <td>84827</td>\n",
       "      <td>2018-11-25</td>\n",
       "      <td>1</td>\n",
       "      <td>La Florida</td>\n",
       "      <td>0.0</td>\n",
       "      <td>24.4</td>\n",
       "      <td>10.5</td>\n",
       "      <td>5.38</td>\n",
       "      <td>114.5</td>\n",
       "      <td>68.0</td>\n",
       "      <td>258.1</td>\n",
       "      <td>12.26</td>\n",
       "      <td>1.29</td>\n",
       "      <td>2018</td>\n",
       "    </tr>\n",
       "    <tr>\n",
       "      <th>41355</th>\n",
       "      <td>84828</td>\n",
       "      <td>2018-11-26</td>\n",
       "      <td>1</td>\n",
       "      <td>La Florida</td>\n",
       "      <td>21.5</td>\n",
       "      <td>24.4</td>\n",
       "      <td>10.5</td>\n",
       "      <td>5.38</td>\n",
       "      <td>114.5</td>\n",
       "      <td>68.0</td>\n",
       "      <td>258.1</td>\n",
       "      <td>12.26</td>\n",
       "      <td>1.29</td>\n",
       "      <td>2018</td>\n",
       "    </tr>\n",
       "    <tr>\n",
       "      <th>41356</th>\n",
       "      <td>84829</td>\n",
       "      <td>2018-11-27</td>\n",
       "      <td>1</td>\n",
       "      <td>La Florida</td>\n",
       "      <td>94.0</td>\n",
       "      <td>24.4</td>\n",
       "      <td>10.5</td>\n",
       "      <td>5.38</td>\n",
       "      <td>114.5</td>\n",
       "      <td>68.0</td>\n",
       "      <td>258.1</td>\n",
       "      <td>12.26</td>\n",
       "      <td>1.29</td>\n",
       "      <td>2018</td>\n",
       "    </tr>\n",
       "    <tr>\n",
       "      <th>41357</th>\n",
       "      <td>84830</td>\n",
       "      <td>2018-11-28</td>\n",
       "      <td>1</td>\n",
       "      <td>La Florida</td>\n",
       "      <td>0.0</td>\n",
       "      <td>24.4</td>\n",
       "      <td>10.5</td>\n",
       "      <td>5.38</td>\n",
       "      <td>114.5</td>\n",
       "      <td>68.0</td>\n",
       "      <td>258.1</td>\n",
       "      <td>12.26</td>\n",
       "      <td>1.29</td>\n",
       "      <td>2018</td>\n",
       "    </tr>\n",
       "  </tbody>\n",
       "</table>\n",
       "</div>"
      ],
      "text/plain": [
       "       index      fecha  omm_id      nombre  prcp  tmax  tmin  vmed  \\\n",
       "41353  84826 2018-11-24       1  La Florida   0.0  24.4  10.5  5.38   \n",
       "41354  84827 2018-11-25       1  La Florida   0.0  24.4  10.5  5.38   \n",
       "41355  84828 2018-11-26       1  La Florida  21.5  24.4  10.5  5.38   \n",
       "41356  84829 2018-11-27       1  La Florida  94.0  24.4  10.5  5.38   \n",
       "41357  84830 2018-11-28       1  La Florida   0.0  24.4  10.5  5.38   \n",
       "\n",
       "       ETreal_mm  HumedadSuelo_mm  RadSolar_Wpm2  PresionVapor_hPa  \\\n",
       "41353      114.5             68.0          258.1             12.26   \n",
       "41354      114.5             68.0          258.1             12.26   \n",
       "41355      114.5             68.0          258.1             12.26   \n",
       "41356      114.5             68.0          258.1             12.26   \n",
       "41357      114.5             68.0          258.1             12.26   \n",
       "\n",
       "       IndicePalmer_porc  hydro_year  \n",
       "41353               1.29        2018  \n",
       "41354               1.29        2018  \n",
       "41355               1.29        2018  \n",
       "41356               1.29        2018  \n",
       "41357               1.29        2018  "
      ]
     },
     "execution_count": 161,
     "metadata": {},
     "output_type": "execute_result"
    }
   ],
   "source": [
    "dataset.tail()"
   ]
  },
  {
   "cell_type": "code",
   "execution_count": 162,
   "metadata": {},
   "outputs": [],
   "source": [
    "# Aca no se si este es el camino a seguir, lo que tenemos que predecir es la PMDA, esa medida es el máximo anual, \n",
    "# pero el dataset que tenemos tiene datos diarios por lo que pense en agrupar las features por 'algo' para que \n",
    "# tuvieran sentido con PMDA ya que si no es asi, no me estoy dando cuenta como deberiamos separar en X e y."
   ]
  },
  {
   "cell_type": "code",
   "execution_count": 163,
   "metadata": {},
   "outputs": [],
   "source": [
    "pmda = get_grouped_dataset(dataset)['prcp'].max()\n",
    "pmda.name = 'pmda'"
   ]
  },
  {
   "cell_type": "code",
   "execution_count": 164,
   "metadata": {},
   "outputs": [],
   "source": [
    "humedad_suelo = get_grouped_dataset(dataset)['HumedadSuelo_mm'].mean()\n",
    "humedad_suelo.name = 'humedad_suelo_mean'"
   ]
  },
  {
   "cell_type": "code",
   "execution_count": 165,
   "metadata": {},
   "outputs": [],
   "source": [
    "tmax_mean = get_grouped_dataset(dataset)['tmax'].mean()\n",
    "tmax_mean.name = 'tmax_mean'"
   ]
  },
  {
   "cell_type": "code",
   "execution_count": 166,
   "metadata": {},
   "outputs": [],
   "source": [
    "prcp_mean = get_grouped_dataset(dataset)['prcp'].mean()\n",
    "prcp_mean.name = 'prcp_mean'"
   ]
  },
  {
   "cell_type": "code",
   "execution_count": 167,
   "metadata": {},
   "outputs": [],
   "source": [
    "presion_mean = get_grouped_dataset(dataset)['PresionVapor_hPa'].mean()\n",
    "presion_mean.name = 'presion_mean'"
   ]
  },
  {
   "cell_type": "code",
   "execution_count": 172,
   "metadata": {},
   "outputs": [],
   "source": [
    "features_dataset = pd.DataFrame(data=[humedad_suelo, tmax_mean, prcp_mean, presion_mean]).T.reset_index()"
   ]
  },
  {
   "cell_type": "code",
   "execution_count": 173,
   "metadata": {},
   "outputs": [],
   "source": [
    "# Puse un par de features para ver que onda..."
   ]
  },
  {
   "cell_type": "code",
   "execution_count": 204,
   "metadata": {},
   "outputs": [],
   "source": [
    "from sklearn.model_selection import train_test_split\n",
    "from sklearn.preprocessing import PolynomialFeatures\n",
    "from sklearn.linear_model import LinearRegression\n",
    "from sklearn.metrics import mean_squared_error\n",
    "from sklearn.pipeline import make_pipeline\n",
    "import matplotlib.pyplot as plt\n",
    "import numpy as np"
   ]
  },
  {
   "cell_type": "code",
   "execution_count": 189,
   "metadata": {},
   "outputs": [
    {
     "data": {
      "text/plain": [
       "((91, 4), (23, 4))"
      ]
     },
     "execution_count": 189,
     "metadata": {},
     "output_type": "execute_result"
    }
   ],
   "source": [
    "features_columns = ['humedad_suelo_mean', 'tmax_mean', 'prcp_mean', 'presion_mean']\n",
    "X = features_dataset[features_columns].copy()\n",
    "y = pmda.copy()\n",
    "X_train, X_test, y_train, y_test = train_test_split(X, y, train_size=0.8, random_state=0)\n",
    "X_train.shape, X_test.shape"
   ]
  },
  {
   "cell_type": "code",
   "execution_count": 180,
   "metadata": {},
   "outputs": [],
   "source": [
    "# lo que sigue es un poco de fruta para ver a ojo si hay alguna relación entre las features y el target.."
   ]
  },
  {
   "cell_type": "code",
   "execution_count": 181,
   "metadata": {},
   "outputs": [
    {
     "data": {
      "image/png": "[encoded data removed]",
      "text/plain": [
       "<Figure size 2160x1440 with 4 Axes>"
      ]
     },
     "metadata": {
      "needs_background": "light"
     },
     "output_type": "display_data"
    }
   ],
   "source": [
    "fig = plt.figure(figsize=(30,20))\n",
    "fig.subplots_adjust(hspace=0.5, wspace=0.5)\n",
    "\n",
    "i = 1\n",
    "for feature in features_columns:\n",
    "    ax = fig.add_subplot(3, 5, i)\n",
    "    plt.scatter(X.loc[:, feature], y, facecolor='dodgerblue', edgecolor='k', label='datos')\n",
    "    plt.title(feature)\n",
    "    i += 1\n",
    "plt.show()"
   ]
  },
  {
   "cell_type": "code",
   "execution_count": 215,
   "metadata": {},
   "outputs": [],
   "source": [
    "# Lo que sigue es solo una prueba..."
   ]
  },
  {
   "cell_type": "code",
   "execution_count": 211,
   "metadata": {},
   "outputs": [
    {
     "data": {
      "text/plain": [
       "((91, 1), (23, 1))"
      ]
     },
     "execution_count": 211,
     "metadata": {},
     "output_type": "execute_result"
    }
   ],
   "source": [
    "feature = 'presion_mean'\n",
    "X_train_f = X_train.loc[:, feature].fillna(method='ffill')\n",
    "X_test_f = X_test.loc[:, feature].fillna(method='ffill')\n",
    "X_train_f = np.array(X_train_f).reshape(-1, 1)\n",
    "X_test_f = np.array(X_test_f).reshape(-1, 1)\n",
    "X_train_f.shape, X_test_f.shape"
   ]
  },
  {
   "cell_type": "code",
   "execution_count": 212,
   "metadata": {},
   "outputs": [
    {
     "data": {
      "text/plain": [
       "LinearRegression()"
      ]
     },
     "execution_count": 212,
     "metadata": {},
     "output_type": "execute_result"
    }
   ],
   "source": [
    "model = LinearRegression()\n",
    "model.fit(X_train_f, y_train)"
   ]
  },
  {
   "cell_type": "code",
   "execution_count": 214,
   "metadata": {},
   "outputs": [
    {
     "name": "stdout",
     "output_type": "stream",
     "text": [
      "Train error: 981.0652894427927\n",
      "Test error: 1242.5454310475234\n"
     ]
    }
   ],
   "source": [
    "y_train_pred = model.predict(X_train_f)\n",
    "y_test_pred = model.predict(X_test_f)\n",
    "\n",
    "train_error = mean_squared_error(y_train, y_train_pred)\n",
    "test_error = mean_squared_error(y_test, y_test_pred)\n",
    "print(f'Train error: {train_error}')\n",
    "print(f'Test error: {test_error}')"
   ]
  },
  {
   "cell_type": "code",
   "execution_count": null,
   "metadata": {},
   "outputs": [],
   "source": []
  }
 ],
 "metadata": {
  "kernelspec": {
   "display_name": "Python 3",
   "language": "python",
   "name": "python3"
  },
  "language_info": {
   "codemirror_mode": {
    "name": "ipython",
    "version": 3
   },
   "file_extension": ".py",
   "mimetype": "text/x-python",
   "name": "python",
   "nbconvert_exporter": "python",
   "pygments_lexer": "ipython3",
   "version": "3.8.5"
  }
 },
 "nbformat": 4,
 "nbformat_minor": 4
}
