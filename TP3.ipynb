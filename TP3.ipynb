{
 "cells": [
  {
   "cell_type": "markdown",
   "metadata": {},
   "source": [
    "## TP3: Introducción al aprendizaje automático"
   ]
  },
  {
   "cell_type": "code",
   "execution_count": 1,
   "metadata": {},
   "outputs": [],
   "source": [
    "import pandas as pd"
   ]
  },
  {
   "cell_type": "code",
   "execution_count": 2,
   "metadata": {},
   "outputs": [],
   "source": [
    "Datos = pd.read_csv(\"https://raw.githubusercontent.com/Rondamon/2020_Mentoria_LluviasExtremas/master/dataset/datos_diarios_cordoba.csv\", parse_dates = True, index_col=\"fecha\")\n",
    "id_Datos = pd.read_csv(\"https://raw.githubusercontent.com/Rondamon/2020_Mentoria_LluviasExtremas/master/dataset/metadatos_estaciones.csv\")"
   ]
  },
  {
   "cell_type": "markdown",
   "metadata": {},
   "source": [
    "De los datasets analizados en los TPs anteriores, ahora nos vamos a enfocar en:\n",
    "\n",
    "- La Florida\n",
    "- Marcos Juarez\n",
    "\n",
    "Y vamos a usar como variable que queremos predecir, la PMDA que han calculado para cada año hidrológico (del 1/julio al 30/junio).\n",
    "\n",
    "Las demás variables (como viento, temperatura, etc) las vamos a resumir para cada año hidrológico en la media (se pueden agregar más estadísticos pero así es suficiente)."
   ]
  },
  {
   "cell_type": "markdown",
   "metadata": {},
   "source": [
    "##### Actividades:\n",
    "\n",
    "##### OBJETIVO: Predecir Precipitación Máxima Diaria Anual (PMDA) para los próximos 5 años"
   ]
  },
  {
   "cell_type": "markdown",
   "metadata": {},
   "source": [
    "1) De los dataset que han trabajado hasta ahora, agreguen más features al DataFrame **\"Datos\"** (Por lo general, más features tienden a dar mejores predicciones).\n",
    "\n",
    "2) Además de las features del punto anterior, les propongo agregar nuevas features moviendo las originales tantos \"pasos de tiempo\" como features nuevas quieran generar.\n",
    "\n",
    "3) Curar el dataset (si fuera necesario).\n",
    "\n",
    "4) Aplicar técnicas de selección y extraccion de features. Armar un nuevo dataset con aquellas features más significativas.\n",
    "\n",
    "5) Dividir el dataset (training, validation, test).. Recuerden que queremos predecir la PMDA para los próximos 5 años.\n",
    "\n",
    "6) Analizar y elegir 3 modelos para REGRESIÓN. Entrenarlos y analizar resultados.\n",
    "\n",
    "7) Evaluar predicciones de los diferentes modelos.\n",
    "\n",
    "8) ¿Qué estadísticos utilizaron para evaluar las regresiones? Justifiquen su elección."
   ]
  },
  {
   "cell_type": "code",
   "execution_count": 61,
   "metadata": {},
   "outputs": [],
   "source": [
    "full_dataset = pd.read_csv('/Users/alessiobocco/Documents/Diplo_Datos/Mentoria/diplo2020-mentoria-prediccion-lluvias-extremas/datos_diarios_cordoba_terra_chirps.csv'\n",
    "                          )"
   ]
  },
  {
   "cell_type": "code",
   "execution_count": 106,
   "metadata": {},
   "outputs": [
    {
     "name": "stderr",
     "output_type": "stream",
     "text": [
      "/Users/alessiobocco/opt/anaconda3/lib/python3.7/site-packages/pandas/core/indexing.py:1745: SettingWithCopyWarning: \n",
      "A value is trying to be set on a copy of a slice from a DataFrame.\n",
      "Try using .loc[row_indexer,col_indexer] = value instead\n",
      "\n",
      "See the caveats in the documentation: https://pandas.pydata.org/pandas-docs/stable/user_guide/indexing.html#returning-a-view-versus-a-copy\n",
      "  isetter(ilocs[0], value)\n"
     ]
    }
   ],
   "source": [
    "dataset = full_dataset[(full_dataset['nombre'] == 'La Florida') | (full_dataset['nombre'] == 'Marcos Juarez INTA')]\n",
    "dataset.loc[:, 'fecha'] = pd.to_datetime(dataset['fecha'])\n",
    "dataset.reset_index(inplace=True)\n",
    "dataset = dataset.drop(['Unnamed: 0'], axis=1)"
   ]
  },
  {
   "cell_type": "code",
   "execution_count": null,
   "metadata": {},
   "outputs": [],
   "source": [
    "pd.set_option(\"display.max_rows\", None, \"display.max_columns\", None)"
   ]
  },
  {
   "cell_type": "code",
   "execution_count": 107,
   "metadata": {},
   "outputs": [],
   "source": [
    "def get_hydro_year(date_, start_month=7):\n",
    "    year = date_.strftime('%Y')\n",
    "    month = date_.strftime('%m')\n",
    "    offset = 1 if int(month) >= start_month - 1 else 0\n",
    "    hydro_year = int(year) + offset - 1\n",
    "    return hydro_year\n",
    "\n",
    "def add_hydro_year(dataset):\n",
    "    dataset = dataset.copy()\n",
    "    dataset.reset_index(inplace=True)\n",
    "    dataset['hydro_year'] = dataset['fecha'].apply(get_hydro_year)\n",
    "    return dataset\n",
    "\n",
    "def remove_cols(dataset, cols=['level_0', 'ano', 'mes', 'caudal', 'tmed', 'vmax_d', 'vmax_f']):\n",
    "    return dataset.drop(cols, axis=1)\n",
    "\n",
    "def get_grouped_dataset(dataset, group=['omm_id', 'hydro_year']):\n",
    "    return dataset.groupby(group)\n",
    "\n",
    "def derive_nth_day_feature(df, feature, N):\n",
    "    rows = df.shape[0]\n",
    "    nth_prior_measurements = [None]*N + [df[feature][i-N] for i in range(N, rows)]\n",
    "    col_name = \"{}_{}\".format(feature, N)\n",
    "    df[col_name] = nth_prior_measurements\n",
    "    \n",
    "def number_days_over_threshold(dataset, threshold = 10):\n",
    "    rainfall_data = dataset.copy()\n",
    "    rainfall_data = rainfall_data[['omm_id', 'hydro_year', 'prcp']]\n",
    "    rainfall_data['day_beyond_threshold'] = rainfall_data.prcp > threshold\n",
    "    rainfall_data = rainfall_data.groupby(['omm_id', 'hydro_year'], as_index=False).day_beyond_threshold.sum()\n",
    "    return(rainfall_data)\n",
    "\n",
    "def rainy_days_over_percentile(dataset, threshold = 0.9):\n",
    "    rainfall_data = dataset.copy()\n",
    "    rainfall_data = rainfall_data[['omm_id', 'hydro_year', 'prcp']]\n",
    "    rainfall_data = rainfall_data[rainfall_data.prcp > 0.1]\n",
    "    reference_quantiles = rainfall_data.groupby(['omm_id'], as_index=False).prcp.quantile(threshold)\n",
    "    reference_quantiles.rename(columns={'prcp': 'prcp_threshold'}, inplace=True) \n",
    "    rainfall_data = pd.merge(rainfall_data, reference_quantiles, on = 'omm_id')\n",
    "    rainfall_data['day_beyond_threshold'] = rainfall_data.prcp > rainfall_data.prcp_threshold    \n",
    "    rainfall_data = rainfall_data.groupby(['omm_id', 'hydro_year'], as_index=False).day_beyond_threshold.sum()\n",
    "    return(rainfall_data)\n"
   ]
  },
  {
   "cell_type": "code",
   "execution_count": 108,
   "metadata": {},
   "outputs": [],
   "source": [
    "dataset = add_hydro_year(dataset)\n",
    "#dataset = remove_cols(dataset)"
   ]
  },
  {
   "cell_type": "code",
   "execution_count": 109,
   "metadata": {},
   "outputs": [
    {
     "data": {
      "text/html": [
       "<div>\n",
       "<style scoped>\n",
       "    .dataframe tbody tr th:only-of-type {\n",
       "        vertical-align: middle;\n",
       "    }\n",
       "\n",
       "    .dataframe tbody tr th {\n",
       "        vertical-align: top;\n",
       "    }\n",
       "\n",
       "    .dataframe thead th {\n",
       "        text-align: right;\n",
       "    }\n",
       "</style>\n",
       "<table border=\"1\" class=\"dataframe\">\n",
       "  <thead>\n",
       "    <tr style=\"text-align: right;\">\n",
       "      <th></th>\n",
       "      <th>level_0</th>\n",
       "      <th>index</th>\n",
       "      <th>fecha</th>\n",
       "      <th>ano</th>\n",
       "      <th>mes</th>\n",
       "      <th>omm_id</th>\n",
       "      <th>nombre</th>\n",
       "      <th>prcp</th>\n",
       "      <th>tmax</th>\n",
       "      <th>tmin</th>\n",
       "      <th>...</th>\n",
       "      <th>vmax_d</th>\n",
       "      <th>vmax_f</th>\n",
       "      <th>vmed</th>\n",
       "      <th>caudal</th>\n",
       "      <th>ETreal_mm</th>\n",
       "      <th>HumedadSuelo_mm</th>\n",
       "      <th>RadSolar_Wpm2</th>\n",
       "      <th>PresionVapor_hPa</th>\n",
       "      <th>IndicePalmer_porc</th>\n",
       "      <th>hydro_year</th>\n",
       "    </tr>\n",
       "  </thead>\n",
       "  <tbody>\n",
       "    <tr>\n",
       "      <th>0</th>\n",
       "      <td>0</td>\n",
       "      <td>43233</td>\n",
       "      <td>1967-10-01</td>\n",
       "      <td>1967</td>\n",
       "      <td>10</td>\n",
       "      <td>87466</td>\n",
       "      <td>Marcos Juarez INTA</td>\n",
       "      <td>0.0</td>\n",
       "      <td>25.8</td>\n",
       "      <td>11.7</td>\n",
       "      <td>...</td>\n",
       "      <td>NaN</td>\n",
       "      <td>NaN</td>\n",
       "      <td>3.333333</td>\n",
       "      <td>NaN</td>\n",
       "      <td>NaN</td>\n",
       "      <td>NaN</td>\n",
       "      <td>NaN</td>\n",
       "      <td>NaN</td>\n",
       "      <td>NaN</td>\n",
       "      <td>1967</td>\n",
       "    </tr>\n",
       "    <tr>\n",
       "      <th>1</th>\n",
       "      <td>1</td>\n",
       "      <td>43234</td>\n",
       "      <td>1967-10-02</td>\n",
       "      <td>1967</td>\n",
       "      <td>10</td>\n",
       "      <td>87466</td>\n",
       "      <td>Marcos Juarez INTA</td>\n",
       "      <td>7.5</td>\n",
       "      <td>25.0</td>\n",
       "      <td>14.4</td>\n",
       "      <td>...</td>\n",
       "      <td>NaN</td>\n",
       "      <td>NaN</td>\n",
       "      <td>4.444444</td>\n",
       "      <td>NaN</td>\n",
       "      <td>NaN</td>\n",
       "      <td>NaN</td>\n",
       "      <td>NaN</td>\n",
       "      <td>NaN</td>\n",
       "      <td>NaN</td>\n",
       "      <td>1967</td>\n",
       "    </tr>\n",
       "    <tr>\n",
       "      <th>2</th>\n",
       "      <td>2</td>\n",
       "      <td>43235</td>\n",
       "      <td>1967-10-03</td>\n",
       "      <td>1967</td>\n",
       "      <td>10</td>\n",
       "      <td>87466</td>\n",
       "      <td>Marcos Juarez INTA</td>\n",
       "      <td>21.0</td>\n",
       "      <td>23.4</td>\n",
       "      <td>13.2</td>\n",
       "      <td>...</td>\n",
       "      <td>NaN</td>\n",
       "      <td>NaN</td>\n",
       "      <td>6.666667</td>\n",
       "      <td>NaN</td>\n",
       "      <td>NaN</td>\n",
       "      <td>NaN</td>\n",
       "      <td>NaN</td>\n",
       "      <td>NaN</td>\n",
       "      <td>NaN</td>\n",
       "      <td>1967</td>\n",
       "    </tr>\n",
       "    <tr>\n",
       "      <th>3</th>\n",
       "      <td>3</td>\n",
       "      <td>43236</td>\n",
       "      <td>1967-10-04</td>\n",
       "      <td>1967</td>\n",
       "      <td>10</td>\n",
       "      <td>87466</td>\n",
       "      <td>Marcos Juarez INTA</td>\n",
       "      <td>0.0</td>\n",
       "      <td>21.2</td>\n",
       "      <td>14.0</td>\n",
       "      <td>...</td>\n",
       "      <td>NaN</td>\n",
       "      <td>NaN</td>\n",
       "      <td>1.944444</td>\n",
       "      <td>NaN</td>\n",
       "      <td>NaN</td>\n",
       "      <td>NaN</td>\n",
       "      <td>NaN</td>\n",
       "      <td>NaN</td>\n",
       "      <td>NaN</td>\n",
       "      <td>1967</td>\n",
       "    </tr>\n",
       "    <tr>\n",
       "      <th>4</th>\n",
       "      <td>4</td>\n",
       "      <td>43237</td>\n",
       "      <td>1967-10-05</td>\n",
       "      <td>1967</td>\n",
       "      <td>10</td>\n",
       "      <td>87466</td>\n",
       "      <td>Marcos Juarez INTA</td>\n",
       "      <td>0.0</td>\n",
       "      <td>22.5</td>\n",
       "      <td>11.0</td>\n",
       "      <td>...</td>\n",
       "      <td>NaN</td>\n",
       "      <td>NaN</td>\n",
       "      <td>5.833333</td>\n",
       "      <td>NaN</td>\n",
       "      <td>NaN</td>\n",
       "      <td>NaN</td>\n",
       "      <td>NaN</td>\n",
       "      <td>NaN</td>\n",
       "      <td>NaN</td>\n",
       "      <td>1967</td>\n",
       "    </tr>\n",
       "  </tbody>\n",
       "</table>\n",
       "<p>5 rows × 21 columns</p>\n",
       "</div>"
      ],
      "text/plain": [
       "   level_0  index      fecha   ano  mes  omm_id              nombre  prcp  \\\n",
       "0        0  43233 1967-10-01  1967   10   87466  Marcos Juarez INTA   0.0   \n",
       "1        1  43234 1967-10-02  1967   10   87466  Marcos Juarez INTA   7.5   \n",
       "2        2  43235 1967-10-03  1967   10   87466  Marcos Juarez INTA  21.0   \n",
       "3        3  43236 1967-10-04  1967   10   87466  Marcos Juarez INTA   0.0   \n",
       "4        4  43237 1967-10-05  1967   10   87466  Marcos Juarez INTA   0.0   \n",
       "\n",
       "   tmax  tmin  ...  vmax_d  vmax_f      vmed  caudal  ETreal_mm  \\\n",
       "0  25.8  11.7  ...     NaN     NaN  3.333333     NaN        NaN   \n",
       "1  25.0  14.4  ...     NaN     NaN  4.444444     NaN        NaN   \n",
       "2  23.4  13.2  ...     NaN     NaN  6.666667     NaN        NaN   \n",
       "3  21.2  14.0  ...     NaN     NaN  1.944444     NaN        NaN   \n",
       "4  22.5  11.0  ...     NaN     NaN  5.833333     NaN        NaN   \n",
       "\n",
       "   HumedadSuelo_mm  RadSolar_Wpm2  PresionVapor_hPa  IndicePalmer_porc  \\\n",
       "0              NaN            NaN               NaN                NaN   \n",
       "1              NaN            NaN               NaN                NaN   \n",
       "2              NaN            NaN               NaN                NaN   \n",
       "3              NaN            NaN               NaN                NaN   \n",
       "4              NaN            NaN               NaN                NaN   \n",
       "\n",
       "   hydro_year  \n",
       "0        1967  \n",
       "1        1967  \n",
       "2        1967  \n",
       "3        1967  \n",
       "4        1967  \n",
       "\n",
       "[5 rows x 21 columns]"
      ]
     },
     "execution_count": 109,
     "metadata": {},
     "output_type": "execute_result"
    }
   ],
   "source": [
    "dataset.head()"
   ]
  },
  {
   "cell_type": "code",
   "execution_count": 207,
   "metadata": {},
   "outputs": [
    {
     "data": {
      "text/html": [
       "<div>\n",
       "<style scoped>\n",
       "    .dataframe tbody tr th:only-of-type {\n",
       "        vertical-align: middle;\n",
       "    }\n",
       "\n",
       "    .dataframe tbody tr th {\n",
       "        vertical-align: top;\n",
       "    }\n",
       "\n",
       "    .dataframe thead th {\n",
       "        text-align: right;\n",
       "    }\n",
       "</style>\n",
       "<table border=\"1\" class=\"dataframe\">\n",
       "  <thead>\n",
       "    <tr style=\"text-align: right;\">\n",
       "      <th></th>\n",
       "      <th></th>\n",
       "      <th></th>\n",
       "      <th>PMDA</th>\n",
       "      <th>tmax</th>\n",
       "      <th>tmin</th>\n",
       "      <th>ETreal_mm</th>\n",
       "      <th>HumedadSuelo_mm</th>\n",
       "      <th>RadSolar_Wpm2</th>\n",
       "      <th>PresionVapor_hPa</th>\n",
       "      <th>IndicePalmer_porc</th>\n",
       "    </tr>\n",
       "    <tr>\n",
       "      <th>hydro_year</th>\n",
       "      <th>omm_id</th>\n",
       "      <th>nombre</th>\n",
       "      <th></th>\n",
       "      <th></th>\n",
       "      <th></th>\n",
       "      <th></th>\n",
       "      <th></th>\n",
       "      <th></th>\n",
       "      <th></th>\n",
       "      <th></th>\n",
       "    </tr>\n",
       "  </thead>\n",
       "  <tbody>\n",
       "    <tr>\n",
       "      <th>1961</th>\n",
       "      <th>1</th>\n",
       "      <th>La Florida</th>\n",
       "      <td>808.8</td>\n",
       "      <td>20.622466</td>\n",
       "      <td>6.174247</td>\n",
       "      <td>19589.3</td>\n",
       "      <td>84.493151</td>\n",
       "      <td>19.590082</td>\n",
       "      <td>9.490192</td>\n",
       "      <td>1.642795</td>\n",
       "    </tr>\n",
       "    <tr>\n",
       "      <th>1962</th>\n",
       "      <th>1</th>\n",
       "      <th>La Florida</th>\n",
       "      <td>516.5</td>\n",
       "      <td>20.723288</td>\n",
       "      <td>6.183014</td>\n",
       "      <td>18655.3</td>\n",
       "      <td>62.339726</td>\n",
       "      <td>19.898164</td>\n",
       "      <td>9.338630</td>\n",
       "      <td>-0.506466</td>\n",
       "    </tr>\n",
       "    <tr>\n",
       "      <th>1963</th>\n",
       "      <th>1</th>\n",
       "      <th>La Florida</th>\n",
       "      <td>409.4</td>\n",
       "      <td>19.883060</td>\n",
       "      <td>6.631694</td>\n",
       "      <td>20268.9</td>\n",
       "      <td>30.008197</td>\n",
       "      <td>19.385328</td>\n",
       "      <td>8.933005</td>\n",
       "      <td>-0.278579</td>\n",
       "    </tr>\n",
       "    <tr>\n",
       "      <th>1964</th>\n",
       "      <th>1</th>\n",
       "      <th>La Florida</th>\n",
       "      <td>884.2</td>\n",
       "      <td>20.331233</td>\n",
       "      <td>5.275342</td>\n",
       "      <td>18521.8</td>\n",
       "      <td>23.090411</td>\n",
       "      <td>20.017014</td>\n",
       "      <td>8.996822</td>\n",
       "      <td>-0.188795</td>\n",
       "    </tr>\n",
       "    <tr>\n",
       "      <th>1965</th>\n",
       "      <th>1</th>\n",
       "      <th>La Florida</th>\n",
       "      <td>1081.9</td>\n",
       "      <td>20.694795</td>\n",
       "      <td>6.491781</td>\n",
       "      <td>19048.7</td>\n",
       "      <td>21.098630</td>\n",
       "      <td>20.059836</td>\n",
       "      <td>9.244000</td>\n",
       "      <td>-1.731479</td>\n",
       "    </tr>\n",
       "  </tbody>\n",
       "</table>\n",
       "</div>"
      ],
      "text/plain": [
       "                                PMDA       tmax      tmin  ETreal_mm  \\\n",
       "hydro_year omm_id nombre                                               \n",
       "1961       1      La Florida   808.8  20.622466  6.174247    19589.3   \n",
       "1962       1      La Florida   516.5  20.723288  6.183014    18655.3   \n",
       "1963       1      La Florida   409.4  19.883060  6.631694    20268.9   \n",
       "1964       1      La Florida   884.2  20.331233  5.275342    18521.8   \n",
       "1965       1      La Florida  1081.9  20.694795  6.491781    19048.7   \n",
       "\n",
       "                              HumedadSuelo_mm  RadSolar_Wpm2  \\\n",
       "hydro_year omm_id nombre                                       \n",
       "1961       1      La Florida        84.493151      19.590082   \n",
       "1962       1      La Florida        62.339726      19.898164   \n",
       "1963       1      La Florida        30.008197      19.385328   \n",
       "1964       1      La Florida        23.090411      20.017014   \n",
       "1965       1      La Florida        21.098630      20.059836   \n",
       "\n",
       "                              PresionVapor_hPa  IndicePalmer_porc  \n",
       "hydro_year omm_id nombre                                           \n",
       "1961       1      La Florida          9.490192           1.642795  \n",
       "1962       1      La Florida          9.338630          -0.506466  \n",
       "1963       1      La Florida          8.933005          -0.278579  \n",
       "1964       1      La Florida          8.996822          -0.188795  \n",
       "1965       1      La Florida          9.244000          -1.731479  "
      ]
     },
     "execution_count": 207,
     "metadata": {},
     "output_type": "execute_result"
    }
   ],
   "source": [
    "dataset = dataset[dataset.hydro_year >= 1961]\n",
    "dataset_yearly = dataset.groupby(['hydro_year', 'omm_id', 'nombre']).agg({'prcp':'sum', \n",
    "                                                                          'tmax':'mean', \n",
    "                                                                          'tmin':'mean',\n",
    "                                                                          'ETreal_mm':'sum', \n",
    "                                                                          'HumedadSuelo_mm':'mean', \n",
    "                                                                          'RadSolar_Wpm2':'mean', \n",
    "                                                                          'PresionVapor_hPa':'mean', \n",
    "                                                                          'IndicePalmer_porc':'mean'})\n",
    "dataset_yearly = dataset_yearly.rename(columns = {'prcp':'PMDA'})\n",
    "dataset_yearly.head()\n"
   ]
  },
  {
   "cell_type": "code",
   "execution_count": 208,
   "metadata": {},
   "outputs": [],
   "source": [
    "# Calcular la cantidad de días con precipitacion por encima de un determinado umbral\n",
    "dataset_10 = number_days_over_threshold(dataset, 10)\n",
    "dataset_10 = dataset_10.rename(columns = {'day_beyond_threshold':'day_10'})\n",
    "dataset_20 = number_days_over_threshold(dataset, 20)\n",
    "dataset_20 = dataset_20.rename(columns = {'day_beyond_threshold':'day_20'})\n",
    "dataset_50 = number_days_over_threshold(dataset, 50)\n",
    "dataset_50 = dataset_50.rename(columns = {'day_beyond_threshold':'day_50'})\n",
    "\n",
    "# Agregar al dataset por año hidrologico\n",
    "dataset_yearly = pd.merge(dataset_yearly, dataset_10, on = ['hydro_year', 'omm_id'])\n",
    "dataset_yearly = pd.merge(dataset_yearly, dataset_20, on = ['hydro_year', 'omm_id'])\n",
    "dataset_yearly = pd.merge(dataset_yearly, dataset_50, on = ['hydro_year', 'omm_id'])"
   ]
  },
  {
   "cell_type": "code",
   "execution_count": 209,
   "metadata": {},
   "outputs": [],
   "source": [
    "# Calcular la cantidad de días con precipitacion por encima de un determinado percentil\n",
    "dataset_90 = rainy_days_over_percentile(dataset, .9)\n",
    "dataset_90 = dataset_90.rename(columns = {'day_beyond_threshold':'day_90'})\n",
    "dataset_95 = rainy_days_over_percentile(dataset, .95)\n",
    "dataset_95 = dataset_95.rename(columns = {'day_beyond_threshold':'day_95'})\n",
    "dataset_99 = rainy_days_over_percentile(dataset, .99)\n",
    "dataset_99 = dataset_99.rename(columns = {'day_beyond_threshold':'day_99'})\n",
    "\n",
    "# Agregar al dataset por año hidrologico\n",
    "dataset_yearly = pd.merge(dataset_yearly, dataset_90, on = ['hydro_year', 'omm_id'])\n",
    "dataset_yearly = pd.merge(dataset_yearly, dataset_95, on = ['hydro_year', 'omm_id'])\n",
    "dataset_yearly = pd.merge(dataset_yearly, dataset_99, on = ['hydro_year', 'omm_id'])\n"
   ]
  },
  {
   "cell_type": "code",
   "execution_count": 210,
   "metadata": {},
   "outputs": [
    {
     "data": {
      "text/plain": [
       "Index(['hydro_year', 'omm_id', 'PMDA', 'tmax', 'tmin', 'ETreal_mm',\n",
       "       'HumedadSuelo_mm', 'RadSolar_Wpm2', 'PresionVapor_hPa',\n",
       "       'IndicePalmer_porc', 'day_10', 'day_20', 'day_50', 'day_90', 'day_95',\n",
       "       'day_99'],\n",
       "      dtype='object')"
      ]
     },
     "execution_count": 210,
     "metadata": {},
     "output_type": "execute_result"
    }
   ],
   "source": [
    "dataset_yearly.columns"
   ]
  },
  {
   "cell_type": "code",
   "execution_count": 211,
   "metadata": {},
   "outputs": [],
   "source": [
    "#features_columns = ['tmax', 'tmin', 'vmed',\n",
    "#       'ETreal_mm', 'HumedadSuelo_mm', 'RadSolar_Wpm2', 'PresionVapor_hPa',\n",
    "#       'IndicePalmer_porc']\n",
    "lagged_features_columns = ['tmax', 'tmin', \n",
    "       'ETreal_mm', 'HumedadSuelo_mm', 'RadSolar_Wpm2', 'PresionVapor_hPa',\n",
    "       'IndicePalmer_porc', 'day_10', 'day_20', 'day_50', 'day_90', 'day_95', 'day_99']\n",
    "target = ['PMDA']"
   ]
  },
  {
   "cell_type": "code",
   "execution_count": 212,
   "metadata": {},
   "outputs": [],
   "source": [
    "for feature in lagged_features_columns:\n",
    "    if feature != 'PMDA':\n",
    "        for N in range(1, 4):\n",
    "            derive_nth_day_feature(dataset_yearly, feature, N)"
   ]
  },
  {
   "cell_type": "code",
   "execution_count": 213,
   "metadata": {},
   "outputs": [
    {
     "name": "stdout",
     "output_type": "stream",
     "text": [
      "True\n"
     ]
    }
   ],
   "source": [
    "print(dataset_yearly.isnull().values.any())"
   ]
  },
  {
   "cell_type": "code",
   "execution_count": null,
   "metadata": {},
   "outputs": [],
   "source": []
  },
  {
   "cell_type": "code",
   "execution_count": 214,
   "metadata": {},
   "outputs": [],
   "source": [
    "dataset_yearly = dataset_yearly.dropna()"
   ]
  },
  {
   "cell_type": "code",
   "execution_count": 215,
   "metadata": {},
   "outputs": [
    {
     "data": {
      "text/plain": [
       "Index(['hydro_year', 'omm_id', 'PMDA', 'tmax', 'tmin', 'ETreal_mm',\n",
       "       'HumedadSuelo_mm', 'RadSolar_Wpm2', 'PresionVapor_hPa',\n",
       "       'IndicePalmer_porc', 'day_10', 'day_20', 'day_50', 'day_90', 'day_95',\n",
       "       'day_99', 'tmax_1', 'tmax_2', 'tmax_3', 'tmin_1', 'tmin_2', 'tmin_3',\n",
       "       'ETreal_mm_1', 'ETreal_mm_2', 'ETreal_mm_3', 'HumedadSuelo_mm_1',\n",
       "       'HumedadSuelo_mm_2', 'HumedadSuelo_mm_3', 'RadSolar_Wpm2_1',\n",
       "       'RadSolar_Wpm2_2', 'RadSolar_Wpm2_3', 'PresionVapor_hPa_1',\n",
       "       'PresionVapor_hPa_2', 'PresionVapor_hPa_3', 'IndicePalmer_porc_1',\n",
       "       'IndicePalmer_porc_2', 'IndicePalmer_porc_3', 'day_10_1', 'day_10_2',\n",
       "       'day_10_3', 'day_20_1', 'day_20_2', 'day_20_3', 'day_50_1', 'day_50_2',\n",
       "       'day_50_3', 'day_90_1', 'day_90_2', 'day_90_3', 'day_95_1', 'day_95_2',\n",
       "       'day_95_3', 'day_99_1', 'day_99_2', 'day_99_3'],\n",
       "      dtype='object')"
      ]
     },
     "execution_count": 215,
     "metadata": {},
     "output_type": "execute_result"
    }
   ],
   "source": [
    "dataset_yearly.columns"
   ]
  },
  {
   "cell_type": "code",
   "execution_count": 216,
   "metadata": {},
   "outputs": [],
   "source": [
    "not_features_cols = ['index', 'fecha', 'nombre', 'PMDA']\n",
    "features_columns = [col for col in dataset_yearly.columns if col not in not_features_cols]"
   ]
  },
  {
   "cell_type": "code",
   "execution_count": 217,
   "metadata": {},
   "outputs": [
    {
     "data": {
      "text/plain": [
       "['hydro_year',\n",
       " 'omm_id',\n",
       " 'tmax',\n",
       " 'tmin',\n",
       " 'ETreal_mm',\n",
       " 'HumedadSuelo_mm',\n",
       " 'RadSolar_Wpm2',\n",
       " 'PresionVapor_hPa',\n",
       " 'IndicePalmer_porc',\n",
       " 'day_10',\n",
       " 'day_20',\n",
       " 'day_50',\n",
       " 'day_90',\n",
       " 'day_95',\n",
       " 'day_99',\n",
       " 'tmax_1',\n",
       " 'tmax_2',\n",
       " 'tmax_3',\n",
       " 'tmin_1',\n",
       " 'tmin_2',\n",
       " 'tmin_3',\n",
       " 'ETreal_mm_1',\n",
       " 'ETreal_mm_2',\n",
       " 'ETreal_mm_3',\n",
       " 'HumedadSuelo_mm_1',\n",
       " 'HumedadSuelo_mm_2',\n",
       " 'HumedadSuelo_mm_3',\n",
       " 'RadSolar_Wpm2_1',\n",
       " 'RadSolar_Wpm2_2',\n",
       " 'RadSolar_Wpm2_3',\n",
       " 'PresionVapor_hPa_1',\n",
       " 'PresionVapor_hPa_2',\n",
       " 'PresionVapor_hPa_3',\n",
       " 'IndicePalmer_porc_1',\n",
       " 'IndicePalmer_porc_2',\n",
       " 'IndicePalmer_porc_3',\n",
       " 'day_10_1',\n",
       " 'day_10_2',\n",
       " 'day_10_3',\n",
       " 'day_20_1',\n",
       " 'day_20_2',\n",
       " 'day_20_3',\n",
       " 'day_50_1',\n",
       " 'day_50_2',\n",
       " 'day_50_3',\n",
       " 'day_90_1',\n",
       " 'day_90_2',\n",
       " 'day_90_3',\n",
       " 'day_95_1',\n",
       " 'day_95_2',\n",
       " 'day_95_3',\n",
       " 'day_99_1',\n",
       " 'day_99_2',\n",
       " 'day_99_3']"
      ]
     },
     "execution_count": 217,
     "metadata": {},
     "output_type": "execute_result"
    }
   ],
   "source": [
    "features_columns"
   ]
  },
  {
   "cell_type": "code",
   "execution_count": 218,
   "metadata": {},
   "outputs": [
    {
     "data": {
      "text/plain": [
       "((107, 54), (107, 1))"
      ]
     },
     "execution_count": 218,
     "metadata": {},
     "output_type": "execute_result"
    }
   ],
   "source": [
    "features_dataset = dataset_yearly[features_columns]\n",
    "\n",
    "target_df = dataset_yearly[target]\n",
    "features_dataset.shape, target_df.shape"
   ]
  },
  {
   "cell_type": "code",
   "execution_count": 219,
   "metadata": {},
   "outputs": [],
   "source": [
    "from sklearn.model_selection import train_test_split\n",
    "from sklearn.preprocessing import PolynomialFeatures\n",
    "from sklearn.linear_model import LinearRegression\n",
    "from sklearn.metrics import mean_squared_error\n",
    "from sklearn.pipeline import make_pipeline\n",
    "import matplotlib.pyplot as plt\n",
    "import numpy as np"
   ]
  },
  {
   "cell_type": "code",
   "execution_count": 220,
   "metadata": {},
   "outputs": [
    {
     "data": {
      "text/plain": [
       "((85, 54), (22, 54))"
      ]
     },
     "execution_count": 220,
     "metadata": {},
     "output_type": "execute_result"
    }
   ],
   "source": [
    "X = features_dataset.copy()\n",
    "y = target_df.copy()\n",
    "X_train, X_test, y_train, y_test = train_test_split(X, y, train_size=0.8, random_state=42)\n",
    "X_train.shape, X_test.shape"
   ]
  },
  {
   "cell_type": "code",
   "execution_count": 221,
   "metadata": {},
   "outputs": [
    {
     "ename": "ValueError",
     "evalue": "num must be 1 <= num <= 15, not 16",
     "output_type": "error",
     "traceback": [
      "\u001b[0;31m---------------------------------------------------------------------------\u001b[0m",
      "\u001b[0;31mValueError\u001b[0m                                Traceback (most recent call last)",
      "\u001b[0;32m<ipython-input-221-69271a26ec0f>\u001b[0m in \u001b[0;36m<module>\u001b[0;34m\u001b[0m\n\u001b[1;32m      4\u001b[0m \u001b[0mi\u001b[0m \u001b[0;34m=\u001b[0m \u001b[0;36m1\u001b[0m\u001b[0;34m\u001b[0m\u001b[0;34m\u001b[0m\u001b[0m\n\u001b[1;32m      5\u001b[0m \u001b[0;32mfor\u001b[0m \u001b[0mfeature\u001b[0m \u001b[0;32min\u001b[0m \u001b[0mfeatures_columns\u001b[0m\u001b[0;34m:\u001b[0m\u001b[0;34m\u001b[0m\u001b[0;34m\u001b[0m\u001b[0m\n\u001b[0;32m----> 6\u001b[0;31m      \u001b[0max\u001b[0m \u001b[0;34m=\u001b[0m \u001b[0mfig\u001b[0m\u001b[0;34m.\u001b[0m\u001b[0madd_subplot\u001b[0m\u001b[0;34m(\u001b[0m\u001b[0;36m3\u001b[0m\u001b[0;34m,\u001b[0m \u001b[0;36m5\u001b[0m\u001b[0;34m,\u001b[0m \u001b[0mi\u001b[0m\u001b[0;34m)\u001b[0m\u001b[0;34m\u001b[0m\u001b[0;34m\u001b[0m\u001b[0m\n\u001b[0m\u001b[1;32m      7\u001b[0m      \u001b[0mplt\u001b[0m\u001b[0;34m.\u001b[0m\u001b[0mscatter\u001b[0m\u001b[0;34m(\u001b[0m\u001b[0mX\u001b[0m\u001b[0;34m.\u001b[0m\u001b[0mloc\u001b[0m\u001b[0;34m[\u001b[0m\u001b[0;34m:\u001b[0m\u001b[0;34m,\u001b[0m \u001b[0mfeature\u001b[0m\u001b[0;34m]\u001b[0m\u001b[0;34m,\u001b[0m \u001b[0my\u001b[0m\u001b[0;34m,\u001b[0m \u001b[0mfacecolor\u001b[0m\u001b[0;34m=\u001b[0m\u001b[0;34m'dodgerblue'\u001b[0m\u001b[0;34m,\u001b[0m \u001b[0medgecolor\u001b[0m\u001b[0;34m=\u001b[0m\u001b[0;34m'k'\u001b[0m\u001b[0;34m,\u001b[0m \u001b[0mlabel\u001b[0m\u001b[0;34m=\u001b[0m\u001b[0;34m'datos'\u001b[0m\u001b[0;34m)\u001b[0m\u001b[0;34m\u001b[0m\u001b[0;34m\u001b[0m\u001b[0m\n\u001b[1;32m      8\u001b[0m      \u001b[0mplt\u001b[0m\u001b[0;34m.\u001b[0m\u001b[0mtitle\u001b[0m\u001b[0;34m(\u001b[0m\u001b[0mfeature\u001b[0m\u001b[0;34m)\u001b[0m\u001b[0;34m\u001b[0m\u001b[0;34m\u001b[0m\u001b[0m\n",
      "\u001b[0;32m~/opt/anaconda3/lib/python3.7/site-packages/matplotlib/figure.py\u001b[0m in \u001b[0;36madd_subplot\u001b[0;34m(self, *args, **kwargs)\u001b[0m\n\u001b[1;32m   1412\u001b[0m                     \u001b[0mself\u001b[0m\u001b[0;34m.\u001b[0m\u001b[0m_axstack\u001b[0m\u001b[0;34m.\u001b[0m\u001b[0mremove\u001b[0m\u001b[0;34m(\u001b[0m\u001b[0max\u001b[0m\u001b[0;34m)\u001b[0m\u001b[0;34m\u001b[0m\u001b[0;34m\u001b[0m\u001b[0m\n\u001b[1;32m   1413\u001b[0m \u001b[0;34m\u001b[0m\u001b[0m\n\u001b[0;32m-> 1414\u001b[0;31m             \u001b[0ma\u001b[0m \u001b[0;34m=\u001b[0m \u001b[0msubplot_class_factory\u001b[0m\u001b[0;34m(\u001b[0m\u001b[0mprojection_class\u001b[0m\u001b[0;34m)\u001b[0m\u001b[0;34m(\u001b[0m\u001b[0mself\u001b[0m\u001b[0;34m,\u001b[0m \u001b[0;34m*\u001b[0m\u001b[0margs\u001b[0m\u001b[0;34m,\u001b[0m \u001b[0;34m**\u001b[0m\u001b[0mkwargs\u001b[0m\u001b[0;34m)\u001b[0m\u001b[0;34m\u001b[0m\u001b[0;34m\u001b[0m\u001b[0m\n\u001b[0m\u001b[1;32m   1415\u001b[0m \u001b[0;34m\u001b[0m\u001b[0m\n\u001b[1;32m   1416\u001b[0m         \u001b[0;32mreturn\u001b[0m \u001b[0mself\u001b[0m\u001b[0;34m.\u001b[0m\u001b[0m_add_axes_internal\u001b[0m\u001b[0;34m(\u001b[0m\u001b[0mkey\u001b[0m\u001b[0;34m,\u001b[0m \u001b[0ma\u001b[0m\u001b[0;34m)\u001b[0m\u001b[0;34m\u001b[0m\u001b[0;34m\u001b[0m\u001b[0m\n",
      "\u001b[0;32m~/opt/anaconda3/lib/python3.7/site-packages/matplotlib/axes/_subplots.py\u001b[0m in \u001b[0;36m__init__\u001b[0;34m(self, fig, *args, **kwargs)\u001b[0m\n\u001b[1;32m     57\u001b[0m                 \u001b[0;32mif\u001b[0m \u001b[0mnum\u001b[0m \u001b[0;34m<\u001b[0m \u001b[0;36m1\u001b[0m \u001b[0;32mor\u001b[0m \u001b[0mnum\u001b[0m \u001b[0;34m>\u001b[0m \u001b[0mrows\u001b[0m\u001b[0;34m*\u001b[0m\u001b[0mcols\u001b[0m\u001b[0;34m:\u001b[0m\u001b[0;34m\u001b[0m\u001b[0;34m\u001b[0m\u001b[0m\n\u001b[1;32m     58\u001b[0m                     raise ValueError(\n\u001b[0;32m---> 59\u001b[0;31m                         f\"num must be 1 <= num <= {rows*cols}, not {num}\")\n\u001b[0m\u001b[1;32m     60\u001b[0m                 self._subplotspec = GridSpec(\n\u001b[1;32m     61\u001b[0m                         rows, cols, figure=self.figure)[int(num) - 1]\n",
      "\u001b[0;31mValueError\u001b[0m: num must be 1 <= num <= 15, not 16"
     ]
    },
    {
     "data": {
      "image/png": "[encoded data removed]",
      "text/plain": [
       "<Figure size 2160x1440 with 15 Axes>"
      ]
     },
     "metadata": {
      "needs_background": "light"
     },
     "output_type": "display_data"
    }
   ],
   "source": [
    "fig = plt.figure(figsize=(30,20))\n",
    "fig.subplots_adjust(hspace=0.5, wspace=0.5)\n",
    "\n",
    "i = 1\n",
    "for feature in features_columns:\n",
    "     ax = fig.add_subplot(3, 5, i)\n",
    "     plt.scatter(X.loc[:, feature], y, facecolor='dodgerblue', edgecolor='k', label='datos')\n",
    "     plt.title(feature)\n",
    "     i += 1\n",
    "plt.show()"
   ]
  },
  {
   "cell_type": "code",
   "execution_count": 202,
   "metadata": {},
   "outputs": [
    {
     "data": {
      "text/plain": [
       "((85, 54), (22, 54))"
      ]
     },
     "execution_count": 202,
     "metadata": {},
     "output_type": "execute_result"
    }
   ],
   "source": [
    "feature = ['vmed', 'vmed_2']\n",
    "# X_train_f = X_train.loc[:, feature]\n",
    "# X_test_f = X_test.loc[:, feature]\n",
    "X_train_f = X_train\n",
    "X_test_f = X_test\n",
    "X_train_f.shape, X_test_f.shape"
   ]
  },
  {
   "cell_type": "code",
   "execution_count": 222,
   "metadata": {},
   "outputs": [
    {
     "data": {
      "text/plain": [
       "LinearRegression()"
      ]
     },
     "execution_count": 222,
     "metadata": {},
     "output_type": "execute_result"
    }
   ],
   "source": [
    "model = LinearRegression()\n",
    "model.fit(X_train_f, y_train)"
   ]
  },
  {
   "cell_type": "code",
   "execution_count": 223,
   "metadata": {},
   "outputs": [],
   "source": [
    "# y_train_pred = model.predict(X_train_f)\n",
    "# y_test_pred = model.predict(X_test_f)\n",
    "\n",
    "# train_error = mean_squared_error(y_train, y_train_pred)\n",
    "# test_error = mean_squared_error(y_test, y_test_pred)\n",
    "# print(f'Train error: {train_error}')\n",
    "# print(f'Test error: {test_error}')"
   ]
  },
  {
   "cell_type": "code",
   "execution_count": 224,
   "metadata": {},
   "outputs": [],
   "source": [
    "# train:\n",
    "model = make_pipeline(PolynomialFeatures(3), LinearRegression())\n",
    "model.fit(X_train_f, y_train)\n",
    "\n",
    "# predict:\n",
    "y_train_pred = model.predict(X_train_f)\n",
    "y_test_pred = model.predict(X_test_f)\n",
    "\n",
    "# evaluate:\n",
    "train_error = mean_squared_error(y_train, y_train_pred)\n",
    "test_error = mean_squared_error(y_test, y_test_pred)"
   ]
  },
  {
   "cell_type": "code",
   "execution_count": 225,
   "metadata": {},
   "outputs": [
    {
     "data": {
      "text/plain": [
       "(3.2050683298102645e-20, 507870.5452127065)"
      ]
     },
     "execution_count": 225,
     "metadata": {},
     "output_type": "execute_result"
    }
   ],
   "source": [
    "train_error, test_error"
   ]
  },
  {
   "cell_type": "code",
   "execution_count": null,
   "metadata": {},
   "outputs": [],
   "source": []
  }
 ],
 "metadata": {
  "kernelspec": {
   "display_name": "Python 3",
   "language": "python",
   "name": "python3"
  },
  "language_info": {
   "codemirror_mode": {
    "name": "ipython",
    "version": 3
   },
   "file_extension": ".py",
   "mimetype": "text/x-python",
   "name": "python",
   "nbconvert_exporter": "python",
   "pygments_lexer": "ipython3",
   "version": "3.7.4"
  }
 },
 "nbformat": 4,
 "nbformat_minor": 4
}
